{
 "cells": [
  {
   "cell_type": "code",
   "execution_count": 1,
   "id": "9b003c23",
   "metadata": {},
   "outputs": [
    {
     "name": "stdout",
     "output_type": "stream",
     "text": [
      "Escribe un número real: 4\n",
      "Este número es mayor que 0\n"
     ]
    }
   ],
   "source": [
    "#Escribe una secuencia de instrucciones que permitan \n",
    "#leer un número real por pantalla y que muestre si el número es positivo o no.\n",
    "\n",
    "f = input(\"Escribe un número real: \")\n",
    "\n",
    "if int(f) > 0:\n",
    "    print(\"Este número es mayor que 0\")\n",
    "elif int(f) < 0:\n",
    "    print(\"Este número es menor que 0\")\n",
    "else:\n",
    "    print(\"Este número es 0\")\n"
   ]
  },
  {
   "cell_type": "code",
   "execution_count": null,
   "id": "40ac3845",
   "metadata": {},
   "outputs": [],
   "source": [
    "#Escribe una secuencia de instrucciones que permitan leer un número real por pantalla \n",
    "#y que muestre si el número está en el rango entre -5 y 5\n",
    "\n",
    "f = input(\"Escribe un número real: \")\n",
    "\n",
    "if -5 < int(f) < 5:\n",
    "    print(\"Este número está en el rango entre -5 y 5\")\n",
    "else:\n",
    "    print(\"Este número NO está en el rango entre -5 y 5\")\n"
   ]
  },
  {
   "cell_type": "code",
   "execution_count": 3,
   "id": "fe65c9ce",
   "metadata": {},
   "outputs": [
    {
     "name": "stdout",
     "output_type": "stream",
     "text": [
      "Escribe la coordenada x: 8\n",
      "Escribe la coordenada y: -5\n",
      "Este número está en el cuadrante de abajo a la derecha\n"
     ]
    }
   ],
   "source": [
    "#Escribe una secuencia de instrucciones que permitan leer las coordenadas \n",
    "#de un punto (x, y) e indique en cuál de los cuatro cuadrantes se encuentra dicho punto.\n",
    "\n",
    "x = input(\"Escribe la coordenada x: \")\n",
    "y = input(\"Escribe la coordenada y: \")\n",
    "\n",
    "if int(x) > 0 and int(y) > 0:\n",
    "    print(\"Este número está en el cuadrante de arriba a la derecha\")\n",
    "elif int(x) > 0 and int(y) < 0:\n",
    "    print(\"Este número está en el cuadrante de abajo a la derecha\")\n",
    "elif int(x) < 0 and int(y) > 0:\n",
    "    print(\"Este número está en el cuadrante de arriba a la izquierda\")\n",
    "elif int(x) < 0 and int(y) < 0:\n",
    "    print(\"Este número está en el cuadrante de abajo a la izquierda\")\n"
   ]
  },
  {
   "cell_type": "code",
   "execution_count": 10,
   "id": "ee7d0be3",
   "metadata": {},
   "outputs": [
    {
     "name": "stdout",
     "output_type": "stream",
     "text": [
      "Escribe el didendo: 9985\n",
      "Escribe el divisor: 71\n",
      "El cociente de la división entera es: 140 con un resto de: 45\n"
     ]
    }
   ],
   "source": [
    "#Escribe una secuencia de instrucciones que permitan leer dos números enteros \n",
    "#y muestre el cociente de la división entera y el resto.\n",
    "\n",
    "a = int(input(\"Escribe el didendo: \"))\n",
    "b = int(input(\"Escribe el divisor: \"))\n",
    "\n",
    "div = a//b\n",
    "res = a%b\n",
    "\n",
    "print('El cociente de la división entera es:%i con un resto de:%i' %(div,res))\n"
   ]
  },
  {
   "cell_type": "code",
   "execution_count": null,
   "id": "a301d243",
   "metadata": {},
   "outputs": [],
   "source": [
    "#Escribe una secuencia de instrucciones que permitan leer un número entero es cuadrado \n",
    "#perfecto o no (piensa la mejor forma de hacerlo con lo que has aprendido hasta ahora)\n",
    "\n",
    "\n"
   ]
  },
  {
   "cell_type": "code",
   "execution_count": 17,
   "id": "8e284a1c",
   "metadata": {},
   "outputs": [
    {
     "name": "stdout",
     "output_type": "stream",
     "text": [
      "Escribe un número para saber si es un cuadrado perfecto: 81\n",
      "Este número ES un cuadrado perfecto\n"
     ]
    }
   ],
   "source": [
    "import math as mt\n",
    "\n",
    "f = int(input(\"Escribe un número para saber si es un cuadrado perfecto: \"))\n",
    "\n",
    "raiz = mt.sqrt(f)\n",
    "enteroRaiz = mt.trunc(raiz)\n",
    "\n",
    "if enteroRaiz == raiz:\n",
    "    print(\"Este número ES un cuadrado perfecto\")\n",
    "else:\n",
    "    print(\"Este número NO es un cuadrado perfecto\")"
   ]
  },
  {
   "cell_type": "code",
   "execution_count": 11,
   "id": "8b5c9983",
   "metadata": {},
   "outputs": [
    {
     "name": "stdout",
     "output_type": "stream",
     "text": [
      "Escribe un número para saber si este número puede corresponder a un año bisiesto o no: 88\n",
      "Este número corresponde a un año bisiesto\n"
     ]
    }
   ],
   "source": [
    "#Escribe una expresión que permita determinar si un número entero positivo puede corresponder a un año bisiesto o no. \n",
    "#Se consideran años bisiestos aquellos cuyo número es divisible por cuatro excepto los años que son múltiplos de 100\n",
    "#, a no ser que lo sean de 400 (por ejemplo el año 2000 fue bisiesto pero el 2100 no lo será).\n",
    "\n",
    "\n",
    "f = int(input(\"Escribe un número para saber si este número puede corresponder a un año bisiesto o no: \"))\n",
    "\n",
    "if f%4 == 0 and (f%100 != 0 or f%400 == 0):\n",
    "    print(\"Este número corresponde a un año bisiesto\")    \n",
    "else:\n",
    "    print(\"Este número NO corresponde a un año bisiesto\")\n",
    "\n"
   ]
  },
  {
   "cell_type": "code",
   "execution_count": 19,
   "id": "1f1c30b7",
   "metadata": {},
   "outputs": [
    {
     "name": "stdout",
     "output_type": "stream",
     "text": [
      "Escribe la letra de la casilla: d\n",
      "Escribe el número de la casilla: 4\n",
      "La casilla D4 es de color Blanco\n"
     ]
    }
   ],
   "source": [
    "#Busca la imagen de un tablero de ajedrez en Google y fíjate en la nomenclatura de las casillas. \n",
    "#Escribe una expresión lea una letra y un número de teclado correspondiente a una casilla de un \n",
    "#tablero de ajedrez y nos indique si esta casilla es negra o blanca.\n",
    "\n",
    "letra = input(\"Escribe la letra de la casilla: \")\n",
    "numero = int(input(\"Escribe el número de la casilla: \"))\n",
    "\n",
    "if letra.upper() in (\"A\",\"C\",\"E\",\"G\"):\n",
    "    if numero%2 == 0:\n",
    "        print(\"La casilla %s%i es de color Negro\" %(letra.upper(),numero))\n",
    "    else:\n",
    "        print(\"La casilla %s%i es de color Blanco\" %(letra.upper(),numero))\n",
    "else:\n",
    "    if numero%2 == 0:\n",
    "        print(\"La casilla %s%i es de color Blanco\" %(letra.upper(),numero))\n",
    "    else:\n",
    "        print(\"La casilla %s%i es de color Negro\" %(letra.upper(),numero))\n",
    "    \n"
   ]
  }
 ],
 "metadata": {
  "kernelspec": {
   "display_name": "Python 3",
   "language": "python",
   "name": "python3"
  },
  "language_info": {
   "codemirror_mode": {
    "name": "ipython",
    "version": 3
   },
   "file_extension": ".py",
   "mimetype": "text/x-python",
   "name": "python",
   "nbconvert_exporter": "python",
   "pygments_lexer": "ipython3",
   "version": "3.8.8"
  }
 },
 "nbformat": 4,
 "nbformat_minor": 5
}
